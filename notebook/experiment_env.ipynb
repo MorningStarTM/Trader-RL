{
 "cells": [
  {
   "cell_type": "code",
   "execution_count": 1,
   "metadata": {},
   "outputs": [
    {
     "data": {
      "text/plain": [
       "'e:\\\\github_clone\\\\Trader-RL'"
      ]
     },
     "execution_count": 1,
     "metadata": {},
     "output_type": "execute_result"
    }
   ],
   "source": [
    "import os\n",
    "os.chdir('../')\n",
    "os.getcwd()"
   ]
  },
  {
   "cell_type": "code",
   "execution_count": 2,
   "metadata": {},
   "outputs": [],
   "source": [
    "import pandas as pd\n",
    "# Available in the github repo : examples/data/BTC_USD-Hourly.csv\n",
    "url = \"https://raw.githubusercontent.com/ClementPerroud/Gym-Trading-Env/main/examples/data/BTC_USD-Hourly.csv\"\n",
    "df = pd.read_csv(url, parse_dates=[\"date\"], index_col= \"date\")\n",
    "df.sort_index(inplace= True)\n",
    "df.dropna(inplace= True)\n",
    "df.drop_duplicates(inplace=True)"
   ]
  },
  {
   "cell_type": "code",
   "execution_count": 3,
   "metadata": {},
   "outputs": [
    {
     "data": {
      "text/html": [
       "<div>\n",
       "<style scoped>\n",
       "    .dataframe tbody tr th:only-of-type {\n",
       "        vertical-align: middle;\n",
       "    }\n",
       "\n",
       "    .dataframe tbody tr th {\n",
       "        vertical-align: top;\n",
       "    }\n",
       "\n",
       "    .dataframe thead th {\n",
       "        text-align: right;\n",
       "    }\n",
       "</style>\n",
       "<table border=\"1\" class=\"dataframe\">\n",
       "  <thead>\n",
       "    <tr style=\"text-align: right;\">\n",
       "      <th></th>\n",
       "      <th>unix</th>\n",
       "      <th>symbol</th>\n",
       "      <th>open</th>\n",
       "      <th>high</th>\n",
       "      <th>low</th>\n",
       "      <th>close</th>\n",
       "      <th>volume</th>\n",
       "      <th>Volume USD</th>\n",
       "    </tr>\n",
       "    <tr>\n",
       "      <th>date</th>\n",
       "      <th></th>\n",
       "      <th></th>\n",
       "      <th></th>\n",
       "      <th></th>\n",
       "      <th></th>\n",
       "      <th></th>\n",
       "      <th></th>\n",
       "      <th></th>\n",
       "    </tr>\n",
       "  </thead>\n",
       "  <tbody>\n",
       "    <tr>\n",
       "      <th>2018-05-15 06:00:00</th>\n",
       "      <td>1526364000</td>\n",
       "      <td>BTC/USD</td>\n",
       "      <td>8733.86</td>\n",
       "      <td>8796.68</td>\n",
       "      <td>8707.28</td>\n",
       "      <td>8740.99</td>\n",
       "      <td>4906603.14</td>\n",
       "      <td>559.93</td>\n",
       "    </tr>\n",
       "    <tr>\n",
       "      <th>2018-05-15 07:00:00</th>\n",
       "      <td>1526367600</td>\n",
       "      <td>BTC/USD</td>\n",
       "      <td>8740.99</td>\n",
       "      <td>8766.00</td>\n",
       "      <td>8721.11</td>\n",
       "      <td>8739.00</td>\n",
       "      <td>2390398.89</td>\n",
       "      <td>273.58</td>\n",
       "    </tr>\n",
       "    <tr>\n",
       "      <th>2018-05-15 08:00:00</th>\n",
       "      <td>1526371200</td>\n",
       "      <td>BTC/USD</td>\n",
       "      <td>8739.00</td>\n",
       "      <td>8750.27</td>\n",
       "      <td>8660.53</td>\n",
       "      <td>8728.49</td>\n",
       "      <td>7986062.84</td>\n",
       "      <td>917.79</td>\n",
       "    </tr>\n",
       "    <tr>\n",
       "      <th>2018-05-15 09:00:00</th>\n",
       "      <td>1526374800</td>\n",
       "      <td>BTC/USD</td>\n",
       "      <td>8728.49</td>\n",
       "      <td>8754.40</td>\n",
       "      <td>8701.35</td>\n",
       "      <td>8708.32</td>\n",
       "      <td>1593991.98</td>\n",
       "      <td>182.62</td>\n",
       "    </tr>\n",
       "    <tr>\n",
       "      <th>2018-05-15 10:00:00</th>\n",
       "      <td>1526378400</td>\n",
       "      <td>BTC/USD</td>\n",
       "      <td>8708.32</td>\n",
       "      <td>8865.00</td>\n",
       "      <td>8695.11</td>\n",
       "      <td>8795.90</td>\n",
       "      <td>11101273.74</td>\n",
       "      <td>1260.69</td>\n",
       "    </tr>\n",
       "  </tbody>\n",
       "</table>\n",
       "</div>"
      ],
      "text/plain": [
       "                           unix   symbol     open     high      low    close  \\\n",
       "date                                                                           \n",
       "2018-05-15 06:00:00  1526364000  BTC/USD  8733.86  8796.68  8707.28  8740.99   \n",
       "2018-05-15 07:00:00  1526367600  BTC/USD  8740.99  8766.00  8721.11  8739.00   \n",
       "2018-05-15 08:00:00  1526371200  BTC/USD  8739.00  8750.27  8660.53  8728.49   \n",
       "2018-05-15 09:00:00  1526374800  BTC/USD  8728.49  8754.40  8701.35  8708.32   \n",
       "2018-05-15 10:00:00  1526378400  BTC/USD  8708.32  8865.00  8695.11  8795.90   \n",
       "\n",
       "                          volume  Volume USD  \n",
       "date                                          \n",
       "2018-05-15 06:00:00   4906603.14      559.93  \n",
       "2018-05-15 07:00:00   2390398.89      273.58  \n",
       "2018-05-15 08:00:00   7986062.84      917.79  \n",
       "2018-05-15 09:00:00   1593991.98      182.62  \n",
       "2018-05-15 10:00:00  11101273.74     1260.69  "
      ]
     },
     "execution_count": 3,
     "metadata": {},
     "output_type": "execute_result"
    }
   ],
   "source": [
    "df.head()"
   ]
  },
  {
   "cell_type": "code",
   "execution_count": 4,
   "metadata": {},
   "outputs": [],
   "source": [
    "# Create the feature : ( close[t] - close[t-1] )/ close[t-1]\n",
    "df[\"feature_close\"] = df[\"close\"].pct_change()\n",
    "\n",
    "# Create the feature : open[t] / close[t]\n",
    "df[\"feature_open\"] = df[\"open\"]/df[\"close\"]\n",
    "\n",
    "# Create the feature : high[t] / close[t]\n",
    "df[\"feature_high\"] = df[\"high\"]/df[\"close\"]\n",
    "\n",
    "# Create the feature : low[t] / close[t]\n",
    "df[\"feature_low\"] = df[\"low\"]/df[\"close\"]\n",
    "\n",
    " # Create the feature : volume[t] / max(*volume[t-7*24:t+1])\n",
    "df[\"feature_volume\"] = df[\"Volume USD\"] / df[\"Volume USD\"].rolling(7*24).max()\n",
    "\n",
    "df.dropna(inplace= True)"
   ]
  },
  {
   "cell_type": "code",
   "execution_count": 5,
   "metadata": {},
   "outputs": [],
   "source": [
    "import gymnasium as gym\n",
    "import numpy as np\n",
    "import gym_trading_env\n",
    "env = gym.make(\"TradingEnv\",\n",
    "        name= \"BTCUSD\",\n",
    "        df = df, # Your dataset with your custom features\n",
    "        positions = [ -1, 0, 1], # -1 (=SHORT), 0(=OUT), +1 (=LONG)\n",
    "        trading_fees = 0.01/100, # 0.01% per stock buy / sell (Binance fees)\n",
    "        borrow_interest_rate= 0.0003/100, # 0.0003% per timestep (one timestep = 1h here)\n",
    "    )"
   ]
  },
  {
   "cell_type": "code",
   "execution_count": 6,
   "metadata": {},
   "outputs": [],
   "source": [
    "import torch\n",
    "from src.agent import RLSeq2Seq, Encoder, Decoder\n",
    "from src.utility.config import config\n",
    "\n",
    "config['input_dim'] = env.observation_space.shape[0]\n",
    "config['action_dim'] = env.action_space.n if hasattr(env.action_space, 'n') else env.action_space.shape[0]\n",
    "\n",
    "encoder = Encoder(config)\n",
    "decoder = Decoder(config)\n",
    "trader = RLSeq2Seq(config=config, decoder=decoder, encoder=encoder)"
   ]
  },
  {
   "cell_type": "code",
   "execution_count": 7,
   "metadata": {},
   "outputs": [
    {
     "name": "stdout",
     "output_type": "stream",
     "text": [
      "\u001b[32m13:31:50\u001b[0m | \u001b[1mINFO    \u001b[0m | \u001b[36mModels loaded from models\\stock\u001b[0m\n"
     ]
    }
   ],
   "source": [
    "trader.load_models(checkpoint=\"models\\\\stock\")"
   ]
  },
  {
   "cell_type": "code",
   "execution_count": 8,
   "metadata": {},
   "outputs": [
    {
     "name": "stdout",
     "output_type": "stream",
     "text": [
      "Market Return : 423.10%   |   Portfolio Return : -94.95%   |   \n",
      "Episode cumulative reward: -2.985389\n"
     ]
    }
   ],
   "source": [
    "import numpy as np\n",
    "import torch\n",
    "\n",
    "terminated, truncated = False, False\n",
    "obs, info = env.reset()\n",
    "\n",
    "ep_rewards = []\n",
    "cum_reward = 0.0\n",
    "\n",
    "prev_obs = None          # last observation (for prev_context)\n",
    "prev_action = None       # last action index (for one-hot)\n",
    "A = env.action_space.n   # action_dim\n",
    "\n",
    "while not (terminated or truncated):\n",
    "    # ---- build prev_context = [prev_obs, one_hot(prev_action)] ----\n",
    "    if prev_obs is not None and prev_action is not None:\n",
    "        prev_ctx = np.concatenate([\n",
    "            np.asarray(prev_obs, dtype=np.float32).reshape(-1),\n",
    "            np.eye(A, dtype=np.float32)[int(prev_action)]\n",
    "        ])\n",
    "    else:\n",
    "        prev_ctx = None\n",
    "\n",
    "    # ---- agent decides an action ----\n",
    "    result = trader.select_action(state=obs, prev_context=prev_ctx)\n",
    "    action = result[0] if isinstance(result, tuple) else result  # handle either return shape\n",
    "\n",
    "    # ---- environment step ----\n",
    "    next_obs, reward, terminated, truncated, info = env.step(action)\n",
    "\n",
    "    # ---- bookkeeping ----\n",
    "    cum_reward += float(reward)\n",
    "    ep_rewards.append(float(reward))\n",
    "\n",
    "    # ---- advance ----\n",
    "    prev_obs = obs\n",
    "    prev_action = action\n",
    "    obs = next_obs\n",
    "\n",
    "print(f\"Episode cumulative reward: {cum_reward:.6f}\")\n",
    "cum_rewards_per_step = np.cumsum(ep_rewards)\n"
   ]
  },
  {
   "cell_type": "code",
   "execution_count": 6,
   "metadata": {},
   "outputs": [],
   "source": [
    "from src.agent import PPO\n",
    "from src.utility.config import config\n",
    "\n",
    "config['input_dim'] = env.observation_space.shape[0]\n",
    "config['action_dim'] = env.action_space.n if hasattr(env.action_space, 'n') else env.action_space.shape[0]\n",
    "agent = PPO(config)"
   ]
  },
  {
   "cell_type": "code",
   "execution_count": 7,
   "metadata": {},
   "outputs": [
    {
     "name": "stdout",
     "output_type": "stream",
     "text": [
      "\u001b[32m10:29:28\u001b[0m | \u001b[1mINFO    \u001b[0m | \u001b[36mPPO loaded from models\\stock\\ppo_checkpoint.pth\u001b[0m\n"
     ]
    }
   ],
   "source": [
    "agent.load(checkpoint_path=\"models\\\\stock\")"
   ]
  },
  {
   "cell_type": "code",
   "execution_count": 8,
   "metadata": {},
   "outputs": [
    {
     "name": "stdout",
     "output_type": "stream",
     "text": [
      "Market Return : 423.10%   |   Portfolio Return : 552.70%   |   \n",
      "Episode cumulative reward: 1.875943\n"
     ]
    }
   ],
   "source": [
    "terminated, truncated = False, False\n",
    "obs, info = env.reset()\n",
    "ep_rewards = []\n",
    "cum_reward = 0.0\n",
    "\n",
    "while not (terminated or truncated):\n",
    "    action = agent.select_action(state=obs)  # your policy here\n",
    "    obs, reward, terminated, truncated, info = env.step(action)\n",
    "    cum_reward += reward\n",
    "    ep_rewards.append(reward)\n",
    "\n",
    "\n",
    "print(f\"Episode cumulative reward: {cum_reward:.6f}\")\n",
    "\n",
    "# If you want the running cumulative reward at each step:\n",
    "cum_rewards_per_step = np.cumsum(ep_rewards)\n"
   ]
  },
  {
   "cell_type": "code",
   "execution_count": 22,
   "metadata": {},
   "outputs": [
    {
     "data": {
      "text/plain": [
       "array([-0.75081104,  0.9879661 ,  0.52541214,  1.6537322 , -0.22571419,\n",
       "        1.1118147 , -0.515132  ], dtype=float32)"
      ]
     },
     "execution_count": 22,
     "metadata": {},
     "output_type": "execute_result"
    }
   ],
   "source": [
    "env.observation_space.sample()"
   ]
  },
  {
   "cell_type": "code",
   "execution_count": 9,
   "metadata": {},
   "outputs": [
    {
     "name": "stdout",
     "output_type": "stream",
     "text": [
      " * Serving Flask app 'gym_trading_env.renderer'\n",
      " * Debug mode: off\n"
     ]
    },
    {
     "name": "stderr",
     "output_type": "stream",
     "text": [
      "WARNING: This is a development server. Do not use it in a production deployment. Use a production WSGI server instead.\n",
      " * Running on http://127.0.0.1:5000\n",
      "Press CTRL+C to quit\n",
      "127.0.0.1 - - [20/Oct/2025 10:34:21] \"GET / HTTP/1.1\" 200 -\n",
      "127.0.0.1 - - [20/Oct/2025 10:34:22] \"GET /favicon.ico HTTP/1.1\" 404 -\n",
      "127.0.0.1 - - [20/Oct/2025 10:34:23] \"GET /update_data/BTCUSD_2025-10-19_14-19-39.pkl HTTP/1.1\" 200 -\n",
      "127.0.0.1 - - [20/Oct/2025 10:34:23] \"GET /metrics HTTP/1.1\" 200 -\n"
     ]
    }
   ],
   "source": [
    "from gym_trading_env.renderer import Renderer\n",
    "renderer = Renderer(render_logs_dir=\"model_logs\\\\stock\\\\render_logs_ppo\")\n",
    "renderer.run()"
   ]
  },
  {
   "cell_type": "code",
   "execution_count": 7,
   "metadata": {},
   "outputs": [],
   "source": []
  },
  {
   "cell_type": "code",
   "execution_count": null,
   "metadata": {},
   "outputs": [],
   "source": []
  }
 ],
 "metadata": {
  "kernelspec": {
   "display_name": "PCC",
   "language": "python",
   "name": "python3"
  },
  "language_info": {
   "codemirror_mode": {
    "name": "ipython",
    "version": 3
   },
   "file_extension": ".py",
   "mimetype": "text/x-python",
   "name": "python",
   "nbconvert_exporter": "python",
   "pygments_lexer": "ipython3",
   "version": "3.8.0"
  }
 },
 "nbformat": 4,
 "nbformat_minor": 2
}
