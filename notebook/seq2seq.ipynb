{
 "cells": [
  {
   "cell_type": "code",
   "execution_count": 1,
   "metadata": {},
   "outputs": [
    {
     "data": {
      "text/plain": [
       "'e:\\\\github_clone\\\\Trader-RL'"
      ]
     },
     "execution_count": 1,
     "metadata": {},
     "output_type": "execute_result"
    }
   ],
   "source": [
    "import os\n",
    "os.chdir('../')\n",
    "os.getcwd()"
   ]
  },
  {
   "cell_type": "code",
   "execution_count": 2,
   "metadata": {},
   "outputs": [],
   "source": [
    "import gymnasium as gym\n",
    "from src.agent import RLSeq2Seq, Encoder, Decoder\n",
    "from src.trainer import Seq2SeqTrainer\n",
    "from src.utility.logger import logger\n",
    "from src.utility.data_prep import build_trading_features\n",
    "from src.utility.config import config\n",
    "import gymnasium as gym\n",
    "import numpy as np\n",
    "import gym_trading_env\n",
    "import torch"
   ]
  },
  {
   "cell_type": "code",
   "execution_count": 3,
   "metadata": {},
   "outputs": [],
   "source": [
    "url = \"https://raw.githubusercontent.com/ClementPerroud/Gym-Trading-Env/main/examples/data/BTC_USD-Hourly.csv\"\n",
    "df = build_trading_features(source=url)"
   ]
  },
  {
   "cell_type": "code",
   "execution_count": 4,
   "metadata": {},
   "outputs": [
    {
     "data": {
      "text/html": [
       "<div>\n",
       "<style scoped>\n",
       "    .dataframe tbody tr th:only-of-type {\n",
       "        vertical-align: middle;\n",
       "    }\n",
       "\n",
       "    .dataframe tbody tr th {\n",
       "        vertical-align: top;\n",
       "    }\n",
       "\n",
       "    .dataframe thead th {\n",
       "        text-align: right;\n",
       "    }\n",
       "</style>\n",
       "<table border=\"1\" class=\"dataframe\">\n",
       "  <thead>\n",
       "    <tr style=\"text-align: right;\">\n",
       "      <th></th>\n",
       "      <th>unix</th>\n",
       "      <th>symbol</th>\n",
       "      <th>open</th>\n",
       "      <th>high</th>\n",
       "      <th>low</th>\n",
       "      <th>close</th>\n",
       "      <th>volume</th>\n",
       "      <th>Volume USD</th>\n",
       "      <th>feature_close</th>\n",
       "      <th>feature_open</th>\n",
       "      <th>feature_high</th>\n",
       "      <th>feature_low</th>\n",
       "      <th>feature_volume</th>\n",
       "    </tr>\n",
       "    <tr>\n",
       "      <th>date</th>\n",
       "      <th></th>\n",
       "      <th></th>\n",
       "      <th></th>\n",
       "      <th></th>\n",
       "      <th></th>\n",
       "      <th></th>\n",
       "      <th></th>\n",
       "      <th></th>\n",
       "      <th></th>\n",
       "      <th></th>\n",
       "      <th></th>\n",
       "      <th></th>\n",
       "      <th></th>\n",
       "    </tr>\n",
       "  </thead>\n",
       "  <tbody>\n",
       "    <tr>\n",
       "      <th>2018-05-22 05:00:00</th>\n",
       "      <td>1526965200</td>\n",
       "      <td>BTC/USD</td>\n",
       "      <td>8285.29</td>\n",
       "      <td>8314.32</td>\n",
       "      <td>8261.52</td>\n",
       "      <td>8280.00</td>\n",
       "      <td>1711668.56</td>\n",
       "      <td>206.40</td>\n",
       "      <td>-0.000638</td>\n",
       "      <td>1.000639</td>\n",
       "      <td>1.004145</td>\n",
       "      <td>0.997768</td>\n",
       "      <td>0.120688</td>\n",
       "    </tr>\n",
       "    <tr>\n",
       "      <th>2018-05-22 06:00:00</th>\n",
       "      <td>1526968800</td>\n",
       "      <td>BTC/USD</td>\n",
       "      <td>8280.00</td>\n",
       "      <td>8355.97</td>\n",
       "      <td>8280.00</td>\n",
       "      <td>8317.02</td>\n",
       "      <td>2975233.66</td>\n",
       "      <td>357.53</td>\n",
       "      <td>0.004471</td>\n",
       "      <td>0.995549</td>\n",
       "      <td>1.004683</td>\n",
       "      <td>0.995549</td>\n",
       "      <td>0.209057</td>\n",
       "    </tr>\n",
       "    <tr>\n",
       "      <th>2018-05-22 07:00:00</th>\n",
       "      <td>1526972400</td>\n",
       "      <td>BTC/USD</td>\n",
       "      <td>8317.02</td>\n",
       "      <td>8333.49</td>\n",
       "      <td>8297.00</td>\n",
       "      <td>8320.16</td>\n",
       "      <td>893167.95</td>\n",
       "      <td>107.43</td>\n",
       "      <td>0.000378</td>\n",
       "      <td>0.999623</td>\n",
       "      <td>1.001602</td>\n",
       "      <td>0.997216</td>\n",
       "      <td>0.062817</td>\n",
       "    </tr>\n",
       "    <tr>\n",
       "      <th>2018-05-22 08:00:00</th>\n",
       "      <td>1526976000</td>\n",
       "      <td>BTC/USD</td>\n",
       "      <td>8320.16</td>\n",
       "      <td>8325.60</td>\n",
       "      <td>8290.00</td>\n",
       "      <td>8295.90</td>\n",
       "      <td>968758.33</td>\n",
       "      <td>116.54</td>\n",
       "      <td>-0.002916</td>\n",
       "      <td>1.002924</td>\n",
       "      <td>1.003580</td>\n",
       "      <td>0.999289</td>\n",
       "      <td>0.068144</td>\n",
       "    </tr>\n",
       "    <tr>\n",
       "      <th>2018-05-22 09:00:00</th>\n",
       "      <td>1526979600</td>\n",
       "      <td>BTC/USD</td>\n",
       "      <td>8295.90</td>\n",
       "      <td>8296.01</td>\n",
       "      <td>8220.00</td>\n",
       "      <td>8245.47</td>\n",
       "      <td>3954060.34</td>\n",
       "      <td>479.07</td>\n",
       "      <td>-0.006079</td>\n",
       "      <td>1.006116</td>\n",
       "      <td>1.006129</td>\n",
       "      <td>0.996911</td>\n",
       "      <td>0.280125</td>\n",
       "    </tr>\n",
       "  </tbody>\n",
       "</table>\n",
       "</div>"
      ],
      "text/plain": [
       "                           unix   symbol     open     high      low    close  \\\n",
       "date                                                                           \n",
       "2018-05-22 05:00:00  1526965200  BTC/USD  8285.29  8314.32  8261.52  8280.00   \n",
       "2018-05-22 06:00:00  1526968800  BTC/USD  8280.00  8355.97  8280.00  8317.02   \n",
       "2018-05-22 07:00:00  1526972400  BTC/USD  8317.02  8333.49  8297.00  8320.16   \n",
       "2018-05-22 08:00:00  1526976000  BTC/USD  8320.16  8325.60  8290.00  8295.90   \n",
       "2018-05-22 09:00:00  1526979600  BTC/USD  8295.90  8296.01  8220.00  8245.47   \n",
       "\n",
       "                         volume  Volume USD  feature_close  feature_open  \\\n",
       "date                                                                       \n",
       "2018-05-22 05:00:00  1711668.56      206.40      -0.000638      1.000639   \n",
       "2018-05-22 06:00:00  2975233.66      357.53       0.004471      0.995549   \n",
       "2018-05-22 07:00:00   893167.95      107.43       0.000378      0.999623   \n",
       "2018-05-22 08:00:00   968758.33      116.54      -0.002916      1.002924   \n",
       "2018-05-22 09:00:00  3954060.34      479.07      -0.006079      1.006116   \n",
       "\n",
       "                     feature_high  feature_low  feature_volume  \n",
       "date                                                            \n",
       "2018-05-22 05:00:00      1.004145     0.997768        0.120688  \n",
       "2018-05-22 06:00:00      1.004683     0.995549        0.209057  \n",
       "2018-05-22 07:00:00      1.001602     0.997216        0.062817  \n",
       "2018-05-22 08:00:00      1.003580     0.999289        0.068144  \n",
       "2018-05-22 09:00:00      1.006129     0.996911        0.280125  "
      ]
     },
     "execution_count": 4,
     "metadata": {},
     "output_type": "execute_result"
    }
   ],
   "source": [
    "df.head()"
   ]
  },
  {
   "cell_type": "code",
   "execution_count": 5,
   "metadata": {},
   "outputs": [],
   "source": [
    "env = gym.make(\"TradingEnv\",\n",
    "        name= \"BTCUSD\",\n",
    "        df = df, # Your dataset with your custom features\n",
    "        positions = [ -1, 0, 1], # -1 (=SHORT), 0(=OUT), +1 (=LONG)\n",
    "        trading_fees = 0.01/100, # 0.01% per stock buy / sell (Binance fees)\n",
    "        borrow_interest_rate= 0.0003/100, # 0.0003% per timestep (one timestep = 1h here)\n",
    "    )"
   ]
  },
  {
   "cell_type": "code",
   "execution_count": 6,
   "metadata": {},
   "outputs": [],
   "source": [
    "config['input_dim'] = env.observation_space.shape[0]\n",
    "config['action_dim'] = env.action_space.n"
   ]
  },
  {
   "cell_type": "code",
   "execution_count": 7,
   "metadata": {},
   "outputs": [],
   "source": [
    "encoder = Encoder(config)\n",
    "decoder = Decoder(config)\n",
    "agent   = RLSeq2Seq(encoder, decoder, config)"
   ]
  },
  {
   "cell_type": "code",
   "execution_count": 8,
   "metadata": {},
   "outputs": [],
   "source": [
    "def one_hot(a, n):\n",
    "    v = np.zeros(n, dtype=np.float32); v[int(a)] = 1.0; return v\n",
    "\n",
    "def build_prev_context(state_vec, prev_action, action_dim):\n",
    "    # your Decoder.context_embed expects (input_dim + action_dim)\n",
    "    oh = np.zeros(action_dim, dtype=np.float32) if prev_action is None else one_hot(prev_action, action_dim)\n",
    "    return np.concatenate([state_vec, oh], axis=0)"
   ]
  },
  {
   "cell_type": "code",
   "execution_count": 9,
   "metadata": {},
   "outputs": [],
   "source": [
    "def rollout_and_update(env, agent:RLSeq2Seq, max_steps=1000):\n",
    "    terminated = truncated = False\n",
    "    obs, info = env.reset()\n",
    "    prev_action = None\n",
    "    ep_ret = 0.0\n",
    "\n",
    "    while not (terminated or truncated) and max_steps > 0:\n",
    "        state_vec = np.array(obs, dtype=np.float32).reshape(-1)\n",
    "        action_dim = env.action_space.n\n",
    "        prev_ctx = build_prev_context(state_vec, prev_action, action_dim)\n",
    "\n",
    "        # uses your (now fixed) select_action\n",
    "        action, _ = agent.select_action(state_vec, prev_ctx)\n",
    "\n",
    "        obs_next, reward, terminated, truncated, info = env.step(action)\n",
    "        ep_ret += float(reward)\n",
    "\n",
    "        # buffer fields your update() needs\n",
    "        agent.buffer.rewards.append(float(reward))\n",
    "        agent.buffer.is_terminals.append(terminated or truncated)\n",
    "        agent.buffer.prev_contexts.append(torch.tensor(prev_ctx, dtype=torch.float32, device=agent.device))\n",
    "        agent.buffer.next_state.append(torch.tensor(np.array(obs_next, dtype=np.float32).reshape(-1), device=agent.device))\n",
    "\n",
    "        prev_action = int(action)\n",
    "        obs = obs_next\n",
    "        max_steps -= 1\n",
    "\n",
    "    return ep_ret\n"
   ]
  },
  {
   "cell_type": "code",
   "execution_count": 11,
   "metadata": {},
   "outputs": [
    {
     "data": {
      "text/plain": [
       "0.1560243277631689"
      ]
     },
     "execution_count": 11,
     "metadata": {},
     "output_type": "execute_result"
    }
   ],
   "source": [
    "rollout_and_update(env, agent, 1000)"
   ]
  },
  {
   "cell_type": "code",
   "execution_count": null,
   "metadata": {},
   "outputs": [],
   "source": []
  }
 ],
 "metadata": {
  "kernelspec": {
   "display_name": "PCC",
   "language": "python",
   "name": "python3"
  },
  "language_info": {
   "codemirror_mode": {
    "name": "ipython",
    "version": 3
   },
   "file_extension": ".py",
   "mimetype": "text/x-python",
   "name": "python",
   "nbconvert_exporter": "python",
   "pygments_lexer": "ipython3",
   "version": "3.8.0"
  }
 },
 "nbformat": 4,
 "nbformat_minor": 2
}
